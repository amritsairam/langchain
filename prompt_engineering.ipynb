{
 "cells": [
  {
   "cell_type": "code",
   "execution_count": 1,
   "metadata": {},
   "outputs": [
    {
     "data": {
      "text/plain": [
       "True"
      ]
     },
     "execution_count": 1,
     "metadata": {},
     "output_type": "execute_result"
    }
   ],
   "source": [
    "import os\n",
    "import os\n",
    "from dotenv import load_dotenv\n",
    "\n",
    "load_dotenv()  # Load environment variables from .env file"
   ]
  },
  {
   "cell_type": "code",
   "execution_count": 3,
   "metadata": {},
   "outputs": [
    {
     "data": {
      "text/plain": [
       "'you are an expert financial advisor.\\nIn an easy way, explain the basics of income tax.'"
      ]
     },
     "execution_count": 3,
     "metadata": {},
     "output_type": "execute_result"
    }
   ],
   "source": [
    "from langchain import PromptTemplate\n",
    "\n",
    "demo_template='''you are an expert financial advisor.\n",
    "In an easy way, explain the basics of {financial_concept}.'''\n",
    "\n",
    "prompt = PromptTemplate(input_variables=[\"financial_concept\"], template=demo_template)\n",
    "prompt.format(financial_concept='income tax')"
   ]
  },
  {
   "cell_type": "code",
   "execution_count": 10,
   "metadata": {},
   "outputs": [],
   "source": [
    "from langchain.llms.openai import OpenAI\n",
    "from langchain.chains import LLMChain #running any prompt template requires LLMChain\n",
    "\n",
    "llm=OpenAI(model='gpt-3.5-turbo-instruct')\n",
    "chain1=LLMChain(llm=llm,prompt=prompt)"
   ]
  },
  {
   "cell_type": "code",
   "execution_count": 12,
   "metadata": {},
   "outputs": [
    {
     "data": {
      "text/plain": [
       "'\\n\\nIncome tax is a type of tax that is collected by the government on the money that individuals and businesses earn. It is based on the amount of income that is earned within a given tax year. \\n\\nThere are two main types of income tax: federal and state. The federal income tax is collected by the federal government and applies to all individuals and businesses in the United States. The state income tax is collected by individual states and may vary in terms of rates and deductions.\\n\\nThe amount of income tax that an individual or business pays is calculated based on their taxable income, which is the total amount of money they earn minus any deductions or exemptions. Deductions and exemptions are expenses or allowances that can be subtracted from the total income, reducing the taxable amount and, in turn, lowering the amount of tax owed.\\n\\nTax rates also play a role in determining the amount of income tax owed. These rates are determined by the government and may vary based on income level and filing status. The higher the income, the higher the tax rate.\\n\\nIndividuals and businesses are required to report their income and pay their income taxes by a specific deadline, typically April 15th of each year. This process is done through filing a tax return, which includes all sources of income and any applicable deductions'"
      ]
     },
     "execution_count": 12,
     "metadata": {},
     "output_type": "execute_result"
    }
   ],
   "source": [
    "chain1.run('income tax')"
   ]
  },
  {
   "cell_type": "code",
   "execution_count": 15,
   "metadata": {},
   "outputs": [
    {
     "data": {
      "text/plain": [
       "'in an easy way translate hi how are you  into the target language hindi'"
      ]
     },
     "execution_count": 15,
     "metadata": {},
     "output_type": "execute_result"
    }
   ],
   "source": [
    "language_template='''in an easy way translate {sentence} into the target language {language}'''\n",
    "\n",
    "prompt=PromptTemplate(input_variables=['sentence','language'],template=language_template)\n",
    "prompt.format(sentence='hi how are you ',language='hindi')\n"
   ]
  },
  {
   "cell_type": "code",
   "execution_count": 18,
   "metadata": {},
   "outputs": [
    {
     "name": "stdout",
     "output_type": "stream",
     "text": [
      "{'sentence': 'hi how are you', 'language': 'hindi', 'text': '\\n\\nहाय कैसे हो आप? (hāy kaise ho āp?)'}\n"
     ]
    }
   ],
   "source": [
    "language_template = '''in an easy way translate {sentence} into the target language {language}'''\n",
    "\n",
    "# Create a PromptTemplate object (optional but useful for templating)\n",
    "prompt = PromptTemplate(input_variables=['sentence', 'language'], template=language_template)\n",
    "\n",
    "# Generate the prompt string using format()\n",
    "prompt_string = prompt.format(sentence='hi how are you', language='hindi')\n",
    "\n",
    "# Create an LLMChain object with the correct prompt structure\n",
    "chain2 = LLMChain(llm=llm, prompt=prompt)  # Pass the prompt string in a dictionary\n",
    "\n",
    "# Call the chain with input values\n",
    "result = chain2({'sentence': 'hi how are you', 'language': 'hindi'})#whenever there are more than two prompts we need to pass them in the form of dict\n",
    "print(result)"
   ]
  },
  {
   "cell_type": "code",
   "execution_count": null,
   "metadata": {},
   "outputs": [],
   "source": []
  }
 ],
 "metadata": {
  "kernelspec": {
   "display_name": "langchain",
   "language": "python",
   "name": "python3"
  },
  "language_info": {
   "codemirror_mode": {
    "name": "ipython",
    "version": 3
   },
   "file_extension": ".py",
   "mimetype": "text/x-python",
   "name": "python",
   "nbconvert_exporter": "python",
   "pygments_lexer": "ipython3",
   "version": "3.10.0"
  }
 },
 "nbformat": 4,
 "nbformat_minor": 2
}
