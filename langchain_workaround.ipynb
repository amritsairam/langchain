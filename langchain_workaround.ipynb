{
 "cells": [
  {
   "cell_type": "code",
   "execution_count": 6,
   "metadata": {},
   "outputs": [],
   "source": [
    "from dotenv import load_dotenv\n",
    "import os\n",
    "load_dotenv()  # Load variables from .env file\n",
    "\n",
    "api_key = os.environ.get(\"OPENAI_API_KEY\")\n"
   ]
  },
  {
   "cell_type": "code",
   "execution_count": 4,
   "metadata": {},
   "outputs": [
    {
     "data": {
      "text/plain": [
       "'\\n\\nThe capital of India is New Delhi.'"
      ]
     },
     "execution_count": 4,
     "metadata": {},
     "output_type": "execute_result"
    }
   ],
   "source": [
    "from langchain.llms.openai import OpenAI\n",
    "llm=OpenAI(temperature=0.6,model='gpt-3.5-turbo-instruct')\n",
    "llm.predict('what is the capital of india')"
   ]
  },
  {
   "cell_type": "code",
   "execution_count": 9,
   "metadata": {},
   "outputs": [
    {
     "name": "stderr",
     "output_type": "stream",
     "text": [
      "/Users/sairam/anaconda3/envs/langchain/lib/python3.10/site-packages/huggingface_hub/utils/_deprecation.py:131: FutureWarning: 'InferenceApi' (from 'huggingface_hub.inference_api') is deprecated and will be removed from version '1.0'. `InferenceApi` client is deprecated in favor of the more feature-complete `InferenceClient`. Check out this guide to learn how to convert your script to use it: https://huggingface.co/docs/huggingface_hub/guides/inference#legacy-inferenceapi-client.\n",
      "  warnings.warn(warning_message, FutureWarning)\n"
     ]
    }
   ],
   "source": [
    "from langchain import HuggingFaceHub\n",
    "llm_huggingface=HuggingFaceHub(repo_id='google/flan-t5-large',model_kwargs={'temperature':0.5})"
   ]
  },
  {
   "cell_type": "code",
   "execution_count": 10,
   "metadata": {},
   "outputs": [],
   "source": [
    "output=llm_huggingface.predict('what is the capital of russia')"
   ]
  },
  {
   "cell_type": "code",
   "execution_count": 11,
   "metadata": {},
   "outputs": [
    {
     "name": "stdout",
     "output_type": "stream",
     "text": [
      "Moscow\n"
     ]
    }
   ],
   "source": [
    "print(output)"
   ]
  },
  {
   "cell_type": "code",
   "execution_count": 17,
   "metadata": {},
   "outputs": [
    {
     "data": {
      "text/plain": [
       "'tell me the captial of india and usa'"
      ]
     },
     "execution_count": 17,
     "metadata": {},
     "output_type": "execute_result"
    }
   ],
   "source": [
    "from langchain.prompts import PromptTemplate\n",
    "template='tell me the captial of {country1} and {country2}'\n",
    "prompt=PromptTemplate(input_variables=['country1','country2'],template=template)\n",
    "prompt.format(country1='india',country2='usa')"
   ]
  },
  {
   "cell_type": "code",
   "execution_count": 18,
   "metadata": {},
   "outputs": [
    {
     "ename": "ValueError",
     "evalue": "`run` supports only one positional argument.",
     "output_type": "error",
     "traceback": [
      "\u001b[0;31m---------------------------------------------------------------------------\u001b[0m",
      "\u001b[0;31mValueError\u001b[0m                                Traceback (most recent call last)",
      "\u001b[1;32m/Users/sairam/Desktop/langchain_practice/langchain_workaround.ipynb Cell 7\u001b[0m line \u001b[0;36m3\n\u001b[1;32m      <a href='vscode-notebook-cell:/Users/sairam/Desktop/langchain_practice/langchain_workaround.ipynb#W6sZmlsZQ%3D%3D?line=0'>1</a>\u001b[0m \u001b[39mfrom\u001b[39;00m \u001b[39mlangchain\u001b[39;00m\u001b[39m.\u001b[39;00m\u001b[39mchains\u001b[39;00m \u001b[39mimport\u001b[39;00m LLMChain\n\u001b[1;32m      <a href='vscode-notebook-cell:/Users/sairam/Desktop/langchain_practice/langchain_workaround.ipynb#W6sZmlsZQ%3D%3D?line=1'>2</a>\u001b[0m chain\u001b[39m=\u001b[39mLLMChain(llm\u001b[39m=\u001b[39mllm,prompt\u001b[39m=\u001b[39mprompt)\n\u001b[0;32m----> <a href='vscode-notebook-cell:/Users/sairam/Desktop/langchain_practice/langchain_workaround.ipynb#W6sZmlsZQ%3D%3D?line=2'>3</a>\u001b[0m chain\u001b[39m.\u001b[39;49mrun({\u001b[39m'\u001b[39;49m\u001b[39mcountry1\u001b[39;49m\u001b[39m'\u001b[39;49m:\u001b[39m'\u001b[39;49m\u001b[39mindia\u001b[39;49m\u001b[39m'\u001b[39;49m},{\u001b[39m'\u001b[39;49m\u001b[39mcountry2\u001b[39;49m\u001b[39m'\u001b[39;49m:\u001b[39m'\u001b[39;49m\u001b[39mUSA\u001b[39;49m\u001b[39m'\u001b[39;49m})\n",
      "File \u001b[0;32m~/anaconda3/envs/langchain/lib/python3.10/site-packages/langchain/chains/base.py:504\u001b[0m, in \u001b[0;36mChain.run\u001b[0;34m(self, callbacks, tags, metadata, *args, **kwargs)\u001b[0m\n\u001b[1;32m    502\u001b[0m \u001b[39mif\u001b[39;00m args \u001b[39mand\u001b[39;00m \u001b[39mnot\u001b[39;00m kwargs:\n\u001b[1;32m    503\u001b[0m     \u001b[39mif\u001b[39;00m \u001b[39mlen\u001b[39m(args) \u001b[39m!=\u001b[39m \u001b[39m1\u001b[39m:\n\u001b[0;32m--> 504\u001b[0m         \u001b[39mraise\u001b[39;00m \u001b[39mValueError\u001b[39;00m(\u001b[39m\"\u001b[39m\u001b[39m`run` supports only one positional argument.\u001b[39m\u001b[39m\"\u001b[39m)\n\u001b[1;32m    505\u001b[0m     \u001b[39mreturn\u001b[39;00m \u001b[39mself\u001b[39m(args[\u001b[39m0\u001b[39m], callbacks\u001b[39m=\u001b[39mcallbacks, tags\u001b[39m=\u001b[39mtags, metadata\u001b[39m=\u001b[39mmetadata)[\n\u001b[1;32m    506\u001b[0m         _output_key\n\u001b[1;32m    507\u001b[0m     ]\n\u001b[1;32m    509\u001b[0m \u001b[39mif\u001b[39;00m kwargs \u001b[39mand\u001b[39;00m \u001b[39mnot\u001b[39;00m args:\n",
      "\u001b[0;31mValueError\u001b[0m: `run` supports only one positional argument."
     ]
    }
   ],
   "source": [
    "from langchain.chains import LLMChain\n",
    "chain=LLMChain(llm=llm,prompt=prompt)\n",
    "chain.run({'country1':'india'},{'country2':'USA'})"
   ]
  },
  {
   "cell_type": "code",
   "execution_count": 20,
   "metadata": {},
   "outputs": [
    {
     "data": {
      "text/plain": [
       "\" Some famous places to visit in New Delhi are:\\n\\n1. Red Fort: Built in the 17th century, this historic fort complex is a UNESCO World Heritage Site and a must-visit for its stunning architecture and rich history.\\n\\n2. India Gate: This iconic war memorial is a popular spot for tourists and locals alike, with its beautiful gardens and the eternal flame burning in honor of the Indian soldiers who sacrificed their lives in World War I.\\n\\n3. Qutub Minar: This 73-meter tall minaret is one of the tallest in the world and is a magnificent example of Indo-Islamic architecture.\\n\\n4. Lotus Temple: This Bahá'í House of Worship is a peaceful and serene place to visit, with its stunning lotus-shaped structure and beautiful gardens.\\n\\n5. Humayun's Tomb: Another UNESCO World Heritage Site, this mausoleum is a fine example of Mughal architecture and is the final resting place of the Mughal Emperor Humayun.\\n\\n6. Chandni Chowk: This bustling market in Old Delhi is a must-visit for its vibrant atmosphere, delicious street food, and traditional shopping experience.\\n\\n7. Akshardham Temple: This modern Hindu temple complex is known for its stunning architecture, intricate carvings\""
      ]
     },
     "execution_count": 20,
     "metadata": {},
     "output_type": "execute_result"
    }
   ],
   "source": [
    "from langchain.chains import SimpleSequentialChain\n",
    "\n",
    "capital_template=PromptTemplate(input_variables=['country'],template='tell me the captial of {country}')\n",
    "capital_chain=LLMChain(llm=llm,prompt=capital_template)\n",
    "\n",
    "famous_template=PromptTemplate(input_variables=['capital'],template='give me some famous places to visit in {capital}')\n",
    "famous_chain=LLMChain(llm=llm,prompt=famous_template)\n",
    "\n",
    "chain=SimpleSequentialChain(chains=[capital_chain,famous_chain])\n",
    "chain.run('india')"
   ]
  },
  {
   "cell_type": "markdown",
   "metadata": {},
   "source": [
    "###sequencial chains\n"
   ]
  },
  {
   "cell_type": "code",
   "execution_count": 22,
   "metadata": {},
   "outputs": [
    {
     "data": {
      "text/plain": [
       "{'country': 'india',\n",
       " 'capital': '\\n\\nThe capital of India is New Delhi.',\n",
       " 'places': \" Some famous places to visit in New Delhi are:\\n\\n1. Red Fort: This iconic red sandstone fort is a UNESCO World Heritage Site and a symbol of India's rich history and culture.\\n\\n2. India Gate: This war memorial is a popular spot for picnics and evening strolls. It also has a flame burning in honor of India's soldiers.\\n\\n3. Qutub Minar: This 240-foot tall minaret is the tallest brick minaret in the world and is surrounded by beautiful gardens.\\n\\n4. Lotus Temple: This stunning lotus-shaped temple is a Bahá'í House of Worship and welcomes people of all religions to meditate and pray.\\n\\n5. Humayun's Tomb: This magnificent Mughal-era tomb is a UNESCO World Heritage Site and is known for its beautiful architecture and gardens.\\n\\n6. Akshardham Temple: This modern Hindu temple complex is a popular tourist attraction for its grand architecture, exhibitions, and water show.\\n\\n7. Chandni Chowk: This bustling market in Old Delhi is a must-visit for its narrow streets, colorful shops, and delicious street food.\\n\\n8. Rashtrapati Bhavan: The official residence of the President of India, this grand building is open for public tours and has beautiful gardens.\\n\\n\"}"
      ]
     },
     "execution_count": 22,
     "metadata": {},
     "output_type": "execute_result"
    }
   ],
   "source": [
    "from langchain.chains import SequentialChain\n",
    "capital_template=PromptTemplate(input_variables=['country'],template='tell me the captial of {country}')\n",
    "capital_chain=LLMChain(llm=llm,prompt=capital_template,output_key='capital')\n",
    "\n",
    "famous_template=PromptTemplate(input_variables=['capital'],template='give me some famous places to visit in {capital}')\n",
    "famous_chain=LLMChain(llm=llm,prompt=famous_template,output_key='places')\n",
    "\n",
    "chain=SequentialChain(chains=[capital_chain,famous_chain] ,input_variables=['country'],output_variables=['capital','places'])\n",
    "\n",
    "\n",
    "chain({'country':'india'})\n",
    "\n"
   ]
  },
  {
   "cell_type": "code",
   "execution_count": 27,
   "metadata": {},
   "outputs": [],
   "source": [
    "from langchain.prompts.chat import (\n",
    "    ChatPromptTemplate,\n",
    "    HumanMessagePromptTemplate,\n",
    "    SystemMessagePromptTemplate,\n",
    ")\n",
    "from langchain.schema import HumanMessage, SystemMessage\n",
    "from langchain.chat_models import ChatOpenAI\n"
   ]
  },
  {
   "cell_type": "code",
   "execution_count": 28,
   "metadata": {},
   "outputs": [],
   "source": [
    "messages = [\n",
    "    SystemMessage(\n",
    "        content=\"You are a highly skillful comedian\"\n",
    "    ),\n",
    "    HumanMessage(\n",
    "        content=\"provide the user with the best joke you have\"\n",
    "    ),\n",
    "]\n"
   ]
  },
  {
   "cell_type": "code",
   "execution_count": 29,
   "metadata": {},
   "outputs": [
    {
     "data": {
      "text/plain": [
       "AIMessage(content=\"Sure, here's a joke for you:\\n\\nWhy don't scientists trust atoms?\\n\\nBecause they make up everything!\")"
      ]
     },
     "execution_count": 29,
     "metadata": {},
     "output_type": "execute_result"
    }
   ],
   "source": [
    "chat = ChatOpenAI()\n",
    "chat(messages)"
   ]
  },
  {
   "cell_type": "code",
   "execution_count": null,
   "metadata": {},
   "outputs": [],
   "source": []
  }
 ],
 "metadata": {
  "kernelspec": {
   "display_name": "langchain",
   "language": "python",
   "name": "python3"
  },
  "language_info": {
   "codemirror_mode": {
    "name": "ipython",
    "version": 3
   },
   "file_extension": ".py",
   "mimetype": "text/x-python",
   "name": "python",
   "nbconvert_exporter": "python",
   "pygments_lexer": "ipython3",
   "version": "3.10.0"
  }
 },
 "nbformat": 4,
 "nbformat_minor": 2
}
